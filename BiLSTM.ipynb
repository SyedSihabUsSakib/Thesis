{
  "nbformat": 4,
  "nbformat_minor": 0,
  "metadata": {
    "colab": {
      "provenance": [],
      "authorship_tag": "ABX9TyPYmjXk4UcwsNltaFJwp+ai",
      "include_colab_link": true
    },
    "kernelspec": {
      "name": "python3",
      "display_name": "Python 3"
    },
    "language_info": {
      "name": "python"
    }
  },
  "cells": [
    {
      "cell_type": "markdown",
      "metadata": {
        "id": "view-in-github",
        "colab_type": "text"
      },
      "source": [
        "<a href=\"https://colab.research.google.com/github/SyedSihabUsSakib/Thesis/blob/master/BiLSTM.ipynb\" target=\"_parent\"><img src=\"https://colab.research.google.com/assets/colab-badge.svg\" alt=\"Open In Colab\"/></a>"
      ]
    },
    {
      "cell_type": "code",
      "execution_count": 1,
      "metadata": {
        "colab": {
          "base_uri": "https://localhost:8080/"
        },
        "id": "R2G78IBekkgs",
        "outputId": "04ea299f-8c59-4628-db21-11468f30c81c"
      },
      "outputs": [
        {
          "output_type": "stream",
          "name": "stdout",
          "text": [
            "Mounted at /content/drive\n"
          ]
        }
      ],
      "source": [
        "from google.colab import drive\n",
        "drive.mount('/content/drive')"
      ]
    },
    {
      "cell_type": "code",
      "source": [
        "import numpy as np\n",
        "import pandas as pd\n",
        "from sklearn.model_selection import train_test_split\n",
        "from tensorflow.keras.preprocessing.text import Tokenizer\n",
        "from tensorflow.keras.preprocessing.sequence import pad_sequences\n",
        "from tensorflow.keras.models import Sequential\n",
        "from tensorflow.keras.layers import Embedding, LSTM, Bidirectional, Dense\n",
        "\n",
        "# Load the dataset\n",
        "df = pd.read_csv(\"/content/drive/My Drive/Colab Notebooks/dataset.csv\")  # Replace \"your_dataset.csv\" with the path to your dataset file\n",
        "\n",
        "# Preprocess the dataset\n",
        "tokenizer = Tokenizer(num_words=5000)  # Set the maximum number of words to consider\n",
        "tokenizer.fit_on_texts(df['text'])\n",
        "X = tokenizer.texts_to_sequences(df['text'])\n",
        "X = pad_sequences(X)\n",
        "\n",
        "# Convert labels to categorical data\n",
        "y = pd.get_dummies(df['label']).values\n",
        "\n",
        "# Split the dataset into training and testing data\n",
        "X_train, X_test, y_train, y_test = train_test_split(X, y, test_size=0.2, random_state=42)\n",
        "\n",
        "# Define the model architecture\n",
        "model = Sequential()\n",
        "model.add(Embedding(input_dim=5000, output_dim=100, input_length=X.shape[1]))\n",
        "model.add(Bidirectional(LSTM(64, return_sequences=True)))\n",
        "model.add(Bidirectional(LSTM(32)))\n",
        "model.add(Dense(5, activation='softmax'))\n",
        "\n",
        "# Compile the model\n",
        "model.compile(loss='categorical_crossentropy', optimizer='adam', metrics=['accuracy'])\n",
        "\n",
        "# Train the model\n",
        "model.fit(X_train, y_train, batch_size=64, epochs=24, validation_data=(X_test, y_test))\n",
        "\n",
        "# Evaluate the model on the test data\n",
        "loss, accuracy = model.evaluate(X_test, y_test, verbose=0)\n",
        "print(f'Test loss: {loss:.4f}')\n",
        "print(f'Test accuracy: {accuracy:.4f}')\n"
      ],
      "metadata": {
        "colab": {
          "base_uri": "https://localhost:8080/"
        },
        "id": "axtkyXdXk0_S",
        "outputId": "a3447747-619a-48dd-ca81-0c1423bd3286"
      },
      "execution_count": 5,
      "outputs": [
        {
          "output_type": "stream",
          "name": "stdout",
          "text": [
            "Epoch 1/24\n",
            "35/35 [==============================] - 19s 328ms/step - loss: 1.5870 - accuracy: 0.2518 - val_loss: 1.5557 - val_accuracy: 0.3485\n",
            "Epoch 2/24\n",
            "35/35 [==============================] - 8s 233ms/step - loss: 1.2689 - accuracy: 0.5277 - val_loss: 1.0551 - val_accuracy: 0.6116\n",
            "Epoch 3/24\n",
            "35/35 [==============================] - 9s 248ms/step - loss: 0.5730 - accuracy: 0.8295 - val_loss: 0.8578 - val_accuracy: 0.6987\n",
            "Epoch 4/24\n",
            "35/35 [==============================] - 10s 284ms/step - loss: 0.2566 - accuracy: 0.9277 - val_loss: 0.8028 - val_accuracy: 0.7114\n",
            "Epoch 5/24\n",
            "35/35 [==============================] - 7s 215ms/step - loss: 0.1148 - accuracy: 0.9741 - val_loss: 0.9027 - val_accuracy: 0.7568\n",
            "Epoch 6/24\n",
            "35/35 [==============================] - 10s 283ms/step - loss: 0.0553 - accuracy: 0.9909 - val_loss: 1.0571 - val_accuracy: 0.7332\n",
            "Epoch 7/24\n",
            "35/35 [==============================] - 8s 239ms/step - loss: 0.0472 - accuracy: 0.9914 - val_loss: 0.9907 - val_accuracy: 0.7350\n",
            "Epoch 8/24\n",
            "35/35 [==============================] - 9s 250ms/step - loss: 0.0328 - accuracy: 0.9932 - val_loss: 1.4164 - val_accuracy: 0.6951\n",
            "Epoch 9/24\n",
            "35/35 [==============================] - 10s 281ms/step - loss: 0.0398 - accuracy: 0.9936 - val_loss: 1.1089 - val_accuracy: 0.7241\n",
            "Epoch 10/24\n",
            "35/35 [==============================] - 7s 207ms/step - loss: 0.0252 - accuracy: 0.9955 - val_loss: 1.1932 - val_accuracy: 0.7332\n",
            "Epoch 11/24\n",
            "35/35 [==============================] - 10s 282ms/step - loss: 0.0186 - accuracy: 0.9959 - val_loss: 1.3284 - val_accuracy: 0.7223\n",
            "Epoch 12/24\n",
            "35/35 [==============================] - 8s 237ms/step - loss: 0.0181 - accuracy: 0.9964 - val_loss: 1.3080 - val_accuracy: 0.7169\n",
            "Epoch 13/24\n",
            "35/35 [==============================] - 9s 247ms/step - loss: 0.0147 - accuracy: 0.9973 - val_loss: 1.3344 - val_accuracy: 0.7296\n",
            "Epoch 14/24\n",
            "35/35 [==============================] - 10s 281ms/step - loss: 0.0131 - accuracy: 0.9973 - val_loss: 1.3276 - val_accuracy: 0.7278\n",
            "Epoch 15/24\n",
            "35/35 [==============================] - 7s 212ms/step - loss: 0.0114 - accuracy: 0.9982 - val_loss: 1.3447 - val_accuracy: 0.7187\n",
            "Epoch 16/24\n",
            "35/35 [==============================] - 10s 284ms/step - loss: 0.0257 - accuracy: 0.9941 - val_loss: 1.2194 - val_accuracy: 0.7169\n",
            "Epoch 17/24\n",
            "35/35 [==============================] - 8s 233ms/step - loss: 0.0267 - accuracy: 0.9945 - val_loss: 1.1981 - val_accuracy: 0.7423\n",
            "Epoch 18/24\n",
            "35/35 [==============================] - 9s 251ms/step - loss: 0.0147 - accuracy: 0.9964 - val_loss: 1.3614 - val_accuracy: 0.7387\n",
            "Epoch 19/24\n",
            "35/35 [==============================] - 10s 284ms/step - loss: 0.0239 - accuracy: 0.9950 - val_loss: 1.3762 - val_accuracy: 0.7187\n",
            "Epoch 20/24\n",
            "35/35 [==============================] - 7s 212ms/step - loss: 0.0151 - accuracy: 0.9973 - val_loss: 1.3084 - val_accuracy: 0.7423\n",
            "Epoch 21/24\n",
            "35/35 [==============================] - 10s 282ms/step - loss: 0.0085 - accuracy: 0.9982 - val_loss: 1.4501 - val_accuracy: 0.7223\n",
            "Epoch 22/24\n",
            "35/35 [==============================] - 8s 234ms/step - loss: 0.0048 - accuracy: 0.9986 - val_loss: 1.4954 - val_accuracy: 0.7332\n",
            "Epoch 23/24\n",
            "35/35 [==============================] - 9s 248ms/step - loss: 0.0071 - accuracy: 0.9986 - val_loss: 1.5390 - val_accuracy: 0.7241\n",
            "Epoch 24/24\n",
            "35/35 [==============================] - 10s 283ms/step - loss: 0.0051 - accuracy: 0.9986 - val_loss: 1.5892 - val_accuracy: 0.7260\n",
            "Test loss: 1.5892\n",
            "Test accuracy: 0.7260\n"
          ]
        }
      ]
    }
  ]
}