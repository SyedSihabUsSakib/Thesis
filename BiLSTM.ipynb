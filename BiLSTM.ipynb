{
  "nbformat": 4,
  "nbformat_minor": 0,
  "metadata": {
    "colab": {
      "provenance": [],
      "authorship_tag": "ABX9TyMFglpT9BnCc/5me9O7iK8p",
      "include_colab_link": true
    },
    "kernelspec": {
      "name": "python3",
      "display_name": "Python 3"
    },
    "language_info": {
      "name": "python"
    }
  },
  "cells": [
    {
      "cell_type": "markdown",
      "metadata": {
        "id": "view-in-github",
        "colab_type": "text"
      },
      "source": [
        "<a href=\"https://colab.research.google.com/github/SyedSihabUsSakib/Thesis/blob/master/BiLSTM.ipynb\" target=\"_parent\"><img src=\"https://colab.research.google.com/assets/colab-badge.svg\" alt=\"Open In Colab\"/></a>"
      ]
    },
    {
      "cell_type": "code",
      "execution_count": 1,
      "metadata": {
        "colab": {
          "base_uri": "https://localhost:8080/"
        },
        "id": "R2G78IBekkgs",
        "outputId": "04ea299f-8c59-4628-db21-11468f30c81c"
      },
      "outputs": [
        {
          "output_type": "stream",
          "name": "stdout",
          "text": [
            "Mounted at /content/drive\n"
          ]
        }
      ],
      "source": [
        "from google.colab import drive\n",
        "drive.mount('/content/drive')"
      ]
    },
    {
      "cell_type": "code",
      "source": [
        "import numpy as np\n",
        "import pandas as pd\n",
        "from sklearn.model_selection import train_test_split\n",
        "from tensorflow.keras.preprocessing.text import Tokenizer\n",
        "from tensorflow.keras.preprocessing.sequence import pad_sequences\n",
        "from tensorflow.keras.models import Sequential\n",
        "from tensorflow.keras.layers import Embedding, LSTM, Bidirectional, Dense\n",
        "\n",
        "# Load the dataset\n",
        "df = pd.read_csv(\"/content/drive/My Drive/Colab Notebooks/dataset.csv\")  # Replace \"your_dataset.csv\" with the path to your dataset file\n",
        "\n",
        "# Preprocess the dataset\n",
        "tokenizer = Tokenizer(num_words=5000)  # Set the maximum number of words to consider\n",
        "tokenizer.fit_on_texts(df['text'])\n",
        "X = tokenizer.texts_to_sequences(df['text'])\n",
        "X = pad_sequences(X)\n",
        "\n",
        "# Convert labels to categorical data\n",
        "y = pd.get_dummies(df['label']).values\n",
        "\n",
        "# Split the dataset into training and testing data\n",
        "X_train, X_test, y_train, y_test = train_test_split(X, y, test_size=0.2, random_state=42)\n",
        "\n",
        "# Define the model architecture\n",
        "model = Sequential()\n",
        "model.add(Embedding(input_dim=5000, output_dim=100, input_length=X.shape[1]))\n",
        "model.add(Bidirectional(LSTM(64, return_sequences=True)))\n",
        "model.add(Bidirectional(LSTM(32)))\n",
        "model.add(Dense(5, activation='softmax'))\n",
        "\n",
        "# Compile the model\n",
        "model.compile(loss='categorical_crossentropy', optimizer='adam', metrics=['accuracy'])\n",
        "\n",
        "# Train the model\n",
        "model.fit(X_train, y_train, batch_size=64, epochs=35, validation_data=(X_test, y_test))\n",
        "\n",
        "# Evaluate the model on the test data\n",
        "loss, accuracy = model.evaluate(X_test, y_test, verbose=0)\n",
        "print(f'Test loss: {loss:.4f}')\n",
        "print(f'Test accuracy: {accuracy:.4f}')\n"
      ],
      "metadata": {
        "colab": {
          "base_uri": "https://localhost:8080/"
        },
        "id": "axtkyXdXk0_S",
        "outputId": "7f35e019-8f05-4148-a038-c474c515cec1"
      },
      "execution_count": 4,
      "outputs": [
        {
          "output_type": "stream",
          "name": "stdout",
          "text": [
            "Epoch 1/35\n",
            "35/35 [==============================] - 19s 330ms/step - loss: 1.5920 - accuracy: 0.2514 - val_loss: 1.5459 - val_accuracy: 0.4102\n",
            "Epoch 2/35\n",
            "35/35 [==============================] - 10s 275ms/step - loss: 1.3132 - accuracy: 0.4995 - val_loss: 1.2693 - val_accuracy: 0.4610\n",
            "Epoch 3/35\n",
            "35/35 [==============================] - 7s 207ms/step - loss: 0.8894 - accuracy: 0.6795 - val_loss: 0.9477 - val_accuracy: 0.6570\n",
            "Epoch 4/35\n",
            "35/35 [==============================] - 10s 284ms/step - loss: 0.4390 - accuracy: 0.8700 - val_loss: 0.7624 - val_accuracy: 0.7241\n",
            "Epoch 5/35\n",
            "35/35 [==============================] - 8s 241ms/step - loss: 0.1988 - accuracy: 0.9505 - val_loss: 0.8793 - val_accuracy: 0.7096\n",
            "Epoch 6/35\n",
            "35/35 [==============================] - 9s 238ms/step - loss: 0.0953 - accuracy: 0.9805 - val_loss: 0.9436 - val_accuracy: 0.7278\n",
            "Epoch 7/35\n",
            "35/35 [==============================] - 10s 281ms/step - loss: 0.0618 - accuracy: 0.9845 - val_loss: 1.0226 - val_accuracy: 0.7241\n",
            "Epoch 8/35\n",
            "35/35 [==============================] - 7s 211ms/step - loss: 0.0391 - accuracy: 0.9909 - val_loss: 1.1217 - val_accuracy: 0.7205\n",
            "Epoch 9/35\n",
            "35/35 [==============================] - 10s 284ms/step - loss: 0.0400 - accuracy: 0.9927 - val_loss: 1.0761 - val_accuracy: 0.7350\n",
            "Epoch 10/35\n",
            "35/35 [==============================] - 8s 241ms/step - loss: 0.0243 - accuracy: 0.9950 - val_loss: 1.0665 - val_accuracy: 0.7296\n",
            "Epoch 11/35\n",
            "35/35 [==============================] - 9s 246ms/step - loss: 0.0182 - accuracy: 0.9964 - val_loss: 1.2542 - val_accuracy: 0.7042\n",
            "Epoch 12/35\n",
            "35/35 [==============================] - 10s 282ms/step - loss: 0.0130 - accuracy: 0.9977 - val_loss: 1.2068 - val_accuracy: 0.7151\n",
            "Epoch 13/35\n",
            "35/35 [==============================] - 7s 213ms/step - loss: 0.0119 - accuracy: 0.9968 - val_loss: 1.2075 - val_accuracy: 0.7332\n",
            "Epoch 14/35\n",
            "35/35 [==============================] - 10s 286ms/step - loss: 0.0126 - accuracy: 0.9968 - val_loss: 1.2062 - val_accuracy: 0.7132\n",
            "Epoch 15/35\n",
            "35/35 [==============================] - 9s 259ms/step - loss: 0.0113 - accuracy: 0.9977 - val_loss: 1.2878 - val_accuracy: 0.7314\n",
            "Epoch 16/35\n",
            "35/35 [==============================] - 8s 232ms/step - loss: 0.0078 - accuracy: 0.9977 - val_loss: 1.2908 - val_accuracy: 0.7223\n",
            "Epoch 17/35\n",
            "35/35 [==============================] - 10s 285ms/step - loss: 0.0056 - accuracy: 0.9977 - val_loss: 1.4253 - val_accuracy: 0.7024\n",
            "Epoch 18/35\n",
            "35/35 [==============================] - 7s 208ms/step - loss: 0.0042 - accuracy: 0.9991 - val_loss: 1.4515 - val_accuracy: 0.7024\n",
            "Epoch 19/35\n",
            "35/35 [==============================] - 10s 282ms/step - loss: 0.0035 - accuracy: 0.9986 - val_loss: 1.4686 - val_accuracy: 0.7169\n",
            "Epoch 20/35\n",
            "35/35 [==============================] - 8s 239ms/step - loss: 0.0037 - accuracy: 0.9986 - val_loss: 1.4850 - val_accuracy: 0.7187\n",
            "Epoch 21/35\n",
            "35/35 [==============================] - 9s 241ms/step - loss: 0.0051 - accuracy: 0.9982 - val_loss: 1.5197 - val_accuracy: 0.7187\n",
            "Epoch 22/35\n",
            "35/35 [==============================] - 10s 282ms/step - loss: 0.0049 - accuracy: 0.9982 - val_loss: 1.3910 - val_accuracy: 0.7205\n",
            "Epoch 23/35\n",
            "35/35 [==============================] - 7s 212ms/step - loss: 0.0072 - accuracy: 0.9986 - val_loss: 1.7830 - val_accuracy: 0.6824\n",
            "Epoch 24/35\n",
            "35/35 [==============================] - 10s 284ms/step - loss: 0.0633 - accuracy: 0.9868 - val_loss: 1.0481 - val_accuracy: 0.7278\n",
            "Epoch 25/35\n",
            "35/35 [==============================] - 8s 236ms/step - loss: 0.0235 - accuracy: 0.9945 - val_loss: 1.1500 - val_accuracy: 0.7187\n",
            "Epoch 26/35\n",
            "35/35 [==============================] - 9s 243ms/step - loss: 0.0119 - accuracy: 0.9964 - val_loss: 1.1643 - val_accuracy: 0.7314\n",
            "Epoch 27/35\n",
            "35/35 [==============================] - 10s 283ms/step - loss: 0.0060 - accuracy: 0.9982 - val_loss: 1.2231 - val_accuracy: 0.7241\n",
            "Epoch 28/35\n",
            "35/35 [==============================] - 7s 214ms/step - loss: 0.0045 - accuracy: 0.9991 - val_loss: 1.2663 - val_accuracy: 0.7278\n",
            "Epoch 29/35\n",
            "35/35 [==============================] - 10s 285ms/step - loss: 0.0035 - accuracy: 0.9991 - val_loss: 1.3066 - val_accuracy: 0.7260\n",
            "Epoch 30/35\n",
            "35/35 [==============================] - 8s 242ms/step - loss: 0.0029 - accuracy: 0.9995 - val_loss: 1.3413 - val_accuracy: 0.7223\n",
            "Epoch 31/35\n",
            "35/35 [==============================] - 9s 242ms/step - loss: 0.0024 - accuracy: 0.9995 - val_loss: 1.3706 - val_accuracy: 0.7260\n",
            "Epoch 32/35\n",
            "35/35 [==============================] - 10s 289ms/step - loss: 0.0022 - accuracy: 0.9991 - val_loss: 1.4034 - val_accuracy: 0.7241\n",
            "Epoch 33/35\n",
            "35/35 [==============================] - 7s 211ms/step - loss: 0.0021 - accuracy: 0.9991 - val_loss: 1.4432 - val_accuracy: 0.7241\n",
            "Epoch 34/35\n",
            "35/35 [==============================] - 10s 285ms/step - loss: 0.0018 - accuracy: 0.9991 - val_loss: 1.4676 - val_accuracy: 0.7223\n",
            "Epoch 35/35\n",
            "35/35 [==============================] - 9s 252ms/step - loss: 0.0017 - accuracy: 0.9995 - val_loss: 1.4868 - val_accuracy: 0.7223\n",
            "Test loss: 1.4868\n",
            "Test accuracy: 0.7223\n"
          ]
        }
      ]
    }
  ]
}