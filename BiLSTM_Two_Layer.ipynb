{
  "nbformat": 4,
  "nbformat_minor": 0,
  "metadata": {
    "colab": {
      "provenance": [],
      "gpuType": "V28",
      "authorship_tag": "ABX9TyNcBrhQVyUOiON4wFIjBVfR",
      "include_colab_link": true
    },
    "kernelspec": {
      "name": "python3",
      "display_name": "Python 3"
    },
    "language_info": {
      "name": "python"
    },
    "accelerator": "TPU"
  },
  "cells": [
    {
      "cell_type": "markdown",
      "metadata": {
        "id": "view-in-github",
        "colab_type": "text"
      },
      "source": [
        "<a href=\"https://colab.research.google.com/github/SyedSihabUsSakib/Thesis/blob/master/BiLSTM_Two_Layer.ipynb\" target=\"_parent\"><img src=\"https://colab.research.google.com/assets/colab-badge.svg\" alt=\"Open In Colab\"/></a>"
      ]
    },
    {
      "cell_type": "code",
      "execution_count": 1,
      "metadata": {
        "colab": {
          "base_uri": "https://localhost:8080/"
        },
        "id": "Mka10a0va8L9",
        "outputId": "2b3527f4-0a22-4af2-fc84-1b570aeb986d"
      },
      "outputs": [
        {
          "output_type": "stream",
          "name": "stdout",
          "text": [
            "Mounted at /content/drive\n"
          ]
        }
      ],
      "source": [
        "# Mount Google Drive (if your dataset is in Drive)\n",
        "from google.colab import drive\n",
        "drive.mount('/content/drive')"
      ]
    },
    {
      "cell_type": "code",
      "source": [
        "import pandas as pd\n",
        "import numpy as np\n",
        "from sklearn.model_selection import train_test_split\n",
        "from sklearn.preprocessing import LabelEncoder\n",
        "from sklearn.metrics import classification_report, accuracy_score\n",
        "from tensorflow.keras.preprocessing.text import Tokenizer\n",
        "from tensorflow.keras.preprocessing.sequence import pad_sequences\n",
        "from tensorflow.keras.models import Sequential\n",
        "from tensorflow.keras.layers import Embedding, Bidirectional, LSTM, Dense\n",
        "from tensorflow.keras.callbacks import EarlyStopping"
      ],
      "metadata": {
        "id": "N5UcSQWUbb9V"
      },
      "execution_count": 3,
      "outputs": []
    },
    {
      "cell_type": "code",
      "source": [
        "df = pd.read_csv('/content/drive/My Drive/Colab Notebooks/dataset.csv')  # Adjust path as needed"
      ],
      "metadata": {
        "id": "S7zKg5BbbXM3"
      },
      "execution_count": 4,
      "outputs": []
    },
    {
      "cell_type": "code",
      "source": [
        "# Preprocess the data\n",
        "X = df['text'].values\n",
        "y = df['label'].values\n",
        "\n",
        "# Encode labels\n",
        "le = LabelEncoder()\n",
        "y = le.fit_transform(y)\n",
        "\n",
        "# Split the data\n",
        "X_train, X_test, y_train, y_test = train_test_split(X, y, test_size=0.2, random_state=42)\n",
        "\n",
        "# Tokenize the text\n",
        "max_words = 10000\n",
        "max_len = 100\n",
        "\n",
        "tokenizer = Tokenizer(num_words=max_words)\n",
        "tokenizer.fit_on_texts(X_train)\n",
        "\n",
        "X_train = tokenizer.texts_to_sequences(X_train)\n",
        "X_test = tokenizer.texts_to_sequences(X_test)\n",
        "\n",
        "X_train = pad_sequences(X_train, maxlen=max_len)\n",
        "X_test = pad_sequences(X_test, maxlen=max_len)\n",
        "\n",
        "# Build the model\n",
        "model = Sequential([\n",
        "    Embedding(max_words, 128, input_length=max_len),\n",
        "    Bidirectional(LSTM(64, return_sequences=True)),\n",
        "    Bidirectional(LSTM(32)),\n",
        "    Dense(64, activation='relu'),\n",
        "    Dense(5, activation='softmax')  # 5 classes\n",
        "])\n",
        "\n",
        "model.compile(optimizer='adam', loss='sparse_categorical_crossentropy', metrics=['accuracy'])\n",
        "\n",
        "# Train the model\n",
        "early_stopping = EarlyStopping(monitor='val_loss', patience=3, restore_best_weights=True)\n",
        "\n",
        "history = model.fit(X_train, y_train,\n",
        "                    epochs=10,\n",
        "                    batch_size=32,\n",
        "                    validation_split=0.1,\n",
        "                    callbacks=[early_stopping])\n"
      ],
      "metadata": {
        "colab": {
          "base_uri": "https://localhost:8080/"
        },
        "id": "2FOpq4aPbkhm",
        "outputId": "90be2aba-e5ef-4ccc-f3cf-d12662a3e8a1"
      },
      "execution_count": 5,
      "outputs": [
        {
          "output_type": "stream",
          "name": "stdout",
          "text": [
            "Epoch 1/10\n",
            "62/62 [==============================] - 13s 114ms/step - loss: 1.5545 - accuracy: 0.3071 - val_loss: 1.4419 - val_accuracy: 0.3955\n",
            "Epoch 2/10\n",
            "62/62 [==============================] - 6s 92ms/step - loss: 0.9035 - accuracy: 0.6636 - val_loss: 0.9073 - val_accuracy: 0.6636\n",
            "Epoch 3/10\n",
            "62/62 [==============================] - 6s 92ms/step - loss: 0.2512 - accuracy: 0.9263 - val_loss: 0.8833 - val_accuracy: 0.7227\n",
            "Epoch 4/10\n",
            "62/62 [==============================] - 6s 92ms/step - loss: 0.0732 - accuracy: 0.9823 - val_loss: 1.0959 - val_accuracy: 0.6955\n",
            "Epoch 5/10\n",
            "62/62 [==============================] - 6s 92ms/step - loss: 0.0355 - accuracy: 0.9924 - val_loss: 1.0340 - val_accuracy: 0.7455\n",
            "Epoch 6/10\n",
            "62/62 [==============================] - 6s 91ms/step - loss: 0.0162 - accuracy: 0.9970 - val_loss: 1.4289 - val_accuracy: 0.7091\n"
          ]
        }
      ]
    },
    {
      "cell_type": "code",
      "source": [
        "# Evaluate the model\n",
        "y_pred = model.predict(X_test)\n",
        "y_pred_classes = np.argmax(y_pred, axis=1)\n",
        "\n",
        "# Print accuracy\n",
        "accuracy = accuracy_score(y_test, y_pred_classes)\n",
        "print(f\"Accuracy: {accuracy:.4f}\")\n",
        "\n",
        "# Print classification report\n",
        "class_names = le.classes_\n",
        "print(\"\\nClassification Report:\")\n",
        "print(classification_report(y_test, y_pred_classes, target_names=class_names))"
      ],
      "metadata": {
        "colab": {
          "base_uri": "https://localhost:8080/"
        },
        "id": "F0Gawrxrb3P_",
        "outputId": "d5989a6e-677f-4e9a-80a2-31b2746cc8e6"
      },
      "execution_count": 6,
      "outputs": [
        {
          "output_type": "stream",
          "name": "stdout",
          "text": [
            "18/18 [==============================] - 2s 26ms/step\n",
            "Accuracy: 0.7405\n",
            "\n",
            "Classification Report:\n",
            "               precision    recall  f1-score   support\n",
            "\n",
            "   Cy-Flaming       0.66      0.80      0.72       127\n",
            "Cy-Pull-a-Pig       0.74      0.74      0.74        91\n",
            "    Cy-Racism       0.72      0.70      0.71       122\n",
            "    Cy-Threat       0.78      0.72      0.75       102\n",
            " Not Bullying       0.84      0.74      0.79       109\n",
            "\n",
            "     accuracy                           0.74       551\n",
            "    macro avg       0.75      0.74      0.74       551\n",
            " weighted avg       0.75      0.74      0.74       551\n",
            "\n"
          ]
        }
      ]
    }
  ]
}